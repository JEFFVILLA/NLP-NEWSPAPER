{
 "cells": [
  {
   "cell_type": "code",
   "execution_count": 1,
   "metadata": {},
   "outputs": [],
   "source": [
    "import json\n",
    "import csv\n",
    "states = [\"ak\",\"al\",\"ar\",\"az\",\"ca\",\"co\",\"ct\",\"de\",\"fl\",\"ga\",\"hi\",\"ia\",\"id\",\"il\",\n",
    "          \"in\",\"ks\",\"ky\",\"la\",\"ma\",\"md\",\"me\",\"mi\",\"mn\",\"mo\",\"ms\",\"mt\",\"nc\",\"nd\",\"ne\",\"nh\",\n",
    "          \"nj\",\"nm\",\"nv\",\"ny\",\"oh\",\"ok\",\"or\",\"pa\",\"ri\",\"sc\",\"sd\",\"tn\",\"tx\",\"ut\",\"va\",\"vt\",\n",
    "          \"wa\",\"wi\",\"wv\",\"wy\"]\n",
    "\n",
    "states_names = {'AL': 'Alabama', 'AK': 'Alaska', 'AZ': 'Arizona', 'AR': 'Arkansas', 'CA': 'California', 'CO': 'Colorado',\n",
    "'CT': 'Connecticut', 'DE': 'Delaware', 'FL': 'Florida', 'GA': 'Georgia', 'HI': 'Hawaii', 'ID': 'Idaho', 'IL': 'Illinois',\n",
    "'IN': 'Indiana', 'IA': 'Iowa', 'KS': 'Kansas', 'KY': 'Kentucky', 'LA': 'Louisiana', 'ME': 'Maine', 'MD': 'Maryland',\n",
    "'MA': 'Massachusetts', 'MI': 'Michigan', 'MN': 'Minnesota', 'MS': 'Mississippi', 'MO': 'Missouri', 'MT': 'Montana',\n",
    "'NE': 'Nebraska', 'NV': 'Nevada', 'NH': 'New Hampshire', 'NJ': 'New Jersey', 'NM': 'New Mexico', 'NY': 'New York', 'NC':'North Carolina', 'ND': 'North Dakota', 'OH': 'Ohio', 'OK': 'Oklahoma', 'OR': 'Oregon', 'PA': 'Pennsylvania', 'RI': 'Rhode Island',\n",
    "'SC': 'South Carolina', 'SD': 'South Dakota', 'TN':'Tennessee', 'TX': 'Texas', 'UT': 'Utah', 'VT': 'Vermont', 'VA': 'Virginia',\n",
    "'WA': 'Washington','WV': 'West Virginia', 'WI': 'Wisconsin', 'WY': 'Wyoming'}\n"
   ]
  },
  {
   "cell_type": "markdown",
   "metadata": {},
   "source": [
    "Funciones."
   ]
  },
  {
   "cell_type": "code",
   "execution_count": 6,
   "metadata": {},
   "outputs": [],
   "source": [
    "import nltk\n",
    "import collections\n",
    "def getState(data):\n",
    "    if data[\"place\"] != None and data[\"place\"][\"country_code\"] == \"US\":\n",
    "        state = str(data[\"place\"][\"full_name\"]).lower().split(\", \")\n",
    "        if len(state) > 1:\n",
    "            return state[1]\n",
    "\n",
    "def isState(state):\n",
    "    if state in states:\n",
    "        return True\n",
    "    return False \n",
    "\n",
    "def readTweets():\n",
    "    file = \"output2.txt\"\n",
    "    afinn_scores = get_afinn_scores()\n",
    "    mood = {}\n",
    "    array = []\n",
    "    with open(file, \"r\") as ins:\n",
    "\n",
    "        for line in ins:          \n",
    "         if ( len(line)> 1): ## to avoid empty lines \n",
    "           data = json.loads(line)\n",
    "           if \"created_at\" in data:\n",
    "               state = getState(data)\n",
    "               if isState(state):\n",
    "                 if \"text\" in data:\n",
    "                    words = nltk.word_tokenize(data[\"text\"])\n",
    "                    score = 0\n",
    "                    estado = state.upper()\n",
    "                    for w in words:\n",
    "                        if w.lower() in afinn_scores:\n",
    "                              score += afinn_scores[w.lower()]\n",
    "                    data['score'] = score\n",
    "                    \n",
    "                    if estado not in mood:\n",
    "                        mood[estado] = data['score']\n",
    "                    else:\n",
    "                        numero1 = mood[estado]\n",
    "                        res = numero1 + data['score']\n",
    "                        mood[estado] = res\n",
    "\n",
    "        return mood\n",
    "                    \n",
    "                    \n",
    "def get_afinn_scores(file=\"AFINN-111.txt\"): \n",
    "    afinn_file = open(file)\n",
    "    scores = {}\n",
    "    for line in afinn_file:\n",
    "      term, score  = line.split(\"\\t\")\n",
    "      scores[term] = int(score)\n",
    "    return scores\n",
    "    "
   ]
  },
  {
   "cell_type": "markdown",
   "metadata": {},
   "source": [
    "Ejecucion en el mapa."
   ]
  },
  {
   "cell_type": "code",
   "execution_count": 13,
   "metadata": {},
   "outputs": [
    {
     "name": "stdout",
     "output_type": "stream",
     "text": [
      "High five! You successfully sent some data to your account on plotly. View your plot in your browser at https://plot.ly/~csjeffri1994/0 or inside your plot.ly account where it is named 'd3-cloropleth-map'\n"
     ]
    },
    {
     "data": {
      "text/html": [
       "<iframe id=\"igraph\" scrolling=\"no\" style=\"border:none;\" seamless=\"seamless\" src=\"https://plot.ly/~csjeffri1994/0.embed\" height=\"525px\" width=\"100%\"></iframe>"
      ],
      "text/plain": [
       "<chart_studio.tools.PlotlyDisplay object>"
      ]
     },
     "execution_count": 13,
     "metadata": {},
     "output_type": "execute_result"
    }
   ],
   "source": [
    "import plotly.plotly as py\n",
    "import plotly.graph_objs as go\n",
    "\n",
    "import plotly \n",
    "plotly.tools.set_credentials_file(username='csjeffri1994', api_key='ZbFCAwS57QiBnkUchxke')\n",
    "import pandas as pd\n",
    "scl = [\n",
    "    [0.0, 'rgb(242,240,247)'],\n",
    "    [0.2, 'rgb(218,218,235)'],\n",
    "    [0.4, 'rgb(188,189,220)'],\n",
    "    [0.6, 'rgb(158,154,200)'],\n",
    "    [0.8, 'rgb(117,107,177)'],\n",
    "    [1.0, 'rgb(84,39,143)']\n",
    "]\n",
    "\n",
    "df = readTweets()\n",
    "dataf = pd.DataFrame.from_dict(df, orient='index',columns=['State'])\n",
    "nombresEst= []\n",
    "for idx, w in enumerate(df.keys()):\n",
    "    if w in states_names.keys() :\n",
    "        nombresEst.append(states_names.get(w))\n",
    "dataf['Nombres'] = nombresEst\n",
    "dataf['CODE']= df.keys()\n",
    "data = [go.Choropleth(\n",
    "    colorscale = scl,\n",
    "    autocolorscale = False,\n",
    "    locations = ,\n",
    "    z = dataf['State'],\n",
    "    locationmode = 'USA-states',\n",
    "    text = dataf['Nombres'],\n",
    "    marker = go.choropleth.Marker(\n",
    "        line = go.choropleth.marker.Line(\n",
    "            color = 'rgb(255,255,255)',\n",
    "            width = 2\n",
    "        )),\n",
    "    colorbar = go.choropleth.ColorBar(\n",
    "        title = \"Grado\")\n",
    ")]\n",
    "\n",
    "layout = go.Layout(\n",
    "    title = go.layout.Title(\n",
    "        text = 'Estado mas alegre'\n",
    "    ),\n",
    "    geo = go.layout.Geo(\n",
    "        scope = 'usa',\n",
    "        projection = go.layout.geo.Projection(type = 'albers usa'),\n",
    "        showlakes = True,\n",
    "        lakecolor = 'rgb(255, 255, 255)'),\n",
    ")\n",
    "\n",
    "fig = go.Figure(data = data, layout = layout)\n",
    "py.iplot(fig, filename = 'd3-cloropleth-map')"
   ]
  },
  {
   "cell_type": "markdown",
   "metadata": {},
   "source": [
    "    Vista del diccionario resultante de la funcion."
   ]
  },
  {
   "cell_type": "code",
   "execution_count": 4,
   "metadata": {
    "scrolled": false
   },
   "outputs": [
    {
     "data": {
      "text/plain": [
       "{'NJ': 3,\n",
       " 'TX': -2,\n",
       " 'PA': 1,\n",
       " 'CA': 31,\n",
       " 'GA': -7,\n",
       " 'NC': -1,\n",
       " 'OH': 2,\n",
       " 'WA': 1,\n",
       " 'FL': 10,\n",
       " 'MD': -2,\n",
       " 'NY': -3,\n",
       " 'KY': 0,\n",
       " 'HI': 0,\n",
       " 'WI': 6,\n",
       " 'VA': 1,\n",
       " 'IN': 6,\n",
       " 'MO': -4,\n",
       " 'MA': 0,\n",
       " 'TN': -3,\n",
       " 'KS': 0,\n",
       " 'NV': 0,\n",
       " 'SC': -2,\n",
       " 'CO': 3,\n",
       " 'IA': 5,\n",
       " 'MN': 7,\n",
       " 'IL': 0,\n",
       " 'OR': 6,\n",
       " 'LA': 0,\n",
       " 'AZ': -1,\n",
       " 'CT': 0,\n",
       " 'ND': 1,\n",
       " 'MS': 1,\n",
       " 'UT': 0}"
      ]
     },
     "execution_count": 4,
     "metadata": {},
     "output_type": "execute_result"
    }
   ],
   "source": [
    "readTweets()"
   ]
  },
  {
   "cell_type": "code",
   "execution_count": null,
   "metadata": {},
   "outputs": [],
   "source": []
  }
 ],
 "metadata": {
  "kernelspec": {
   "display_name": "Python 3",
   "language": "python",
   "name": "python3"
  },
  "language_info": {
   "codemirror_mode": {
    "name": "ipython",
    "version": 3
   },
   "file_extension": ".py",
   "mimetype": "text/x-python",
   "name": "python",
   "nbconvert_exporter": "python",
   "pygments_lexer": "ipython3",
   "version": "3.7.1"
  }
 },
 "nbformat": 4,
 "nbformat_minor": 2
}
